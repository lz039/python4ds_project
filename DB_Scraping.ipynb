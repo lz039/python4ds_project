{
 "cells": [
  {
   "cell_type": "code",
   "execution_count": 1,
   "metadata": {},
   "outputs": [],
   "source": [
    "import requests\n",
    "import pandas as pd\n",
    "import csv"
   ]
  },
  {
   "cell_type": "code",
   "execution_count": 2,
   "metadata": {},
   "outputs": [],
   "source": [
    "url_parking = 'https://apis.deutschebahn.com/db-api-marketplace/apis/parking-information/db-bahnpark/v2/'\n",
    "url_ris_stations = 'https://apis.deutschebahn.com/db-api-marketplace/apis/ris-stations/v1/'\n",
    "client_id = '22a834e6e490f430dc9250bc13e7fba0'\n",
    "client_secret = '0f294b9c1f1c72f834dbc43cdf33e42d'\n",
    "limit = 500 # this is the default"
   ]
  },
  {
   "cell_type": "code",
   "execution_count": 3,
   "metadata": {},
   "outputs": [],
   "source": [
    "headers = {\n",
    "    'DB-Client-Id': client_id,\n",
    "    'DB-Api-Key': client_secret,\n",
    "}"
   ]
  },
  {
   "cell_type": "code",
   "execution_count": 4,
   "metadata": {},
   "outputs": [],
   "source": [
    "# response = requests.get(url_parking + 'parking-facilities', headers=headers)\n",
    "# print(response.json())"
   ]
  },
  {
   "cell_type": "code",
   "execution_count": 5,
   "metadata": {},
   "outputs": [],
   "source": [
    "response = requests.get(url_ris_stations + f'stations?limit={limit}', headers=headers)\n",
    "json = response.json()"
   ]
  },
  {
   "cell_type": "code",
   "execution_count": 11,
   "metadata": {},
   "outputs": [],
   "source": [
    "data_list = []\n",
    "for entry in json['stations']:\n",
    "    data_list.append(\n",
    "        {\n",
    "            \"id\": entry['stationID'],\n",
    "            \"name\": entry['names'].get('DE', {}).get('name', ''),\n",
    "            #\"metropolis\": entry['metropolis'],\n",
    "            \"street\": entry['address'].get('street', ''),\n",
    "            \"houseNumber\": entry['address'].get('houseNumber', ''),\n",
    "            \"postalCode\": entry['address'].get('postalCode', ''),\n",
    "            \"city\": entry['address'].get('city', ''),\n",
    "            \"state\": entry['address'].get('state', ''),\n",
    "            \"country\": entry['address'].get('country', ''),\n",
    "            \"stationCategory\": entry['stationCategory'],\n",
    "            \"owner\": entry['owner'].get('name', ''),\n",
    "            \"countryCode\": entry['countryCode'],\n",
    "            \"latitude\": entry.get('position', {}).get('latitude', ''),\n",
    "            \"longitude\": entry.get('position', {}).get('longitude', ''),\n",
    "            \"timeZone\": entry['timeZone']\n",
    "        }\n",
    "    )\n"
   ]
  },
  {
   "cell_type": "code",
   "execution_count": null,
   "metadata": {},
   "outputs": [],
   "source": [
    "csv_file_path = 'data.csv'\n",
    "\n",
    "with open(csv_file_path, 'w', newline='') as csv_file:\n",
    "    writer = csv.DictWriter(csv_file, fieldnames=data_list[0].keys())\n",
    "    \n",
    "    # Write header\n",
    "    writer.writeheader()\n",
    "    \n",
    "    # Write data rows\n",
    "    writer.writerows(data_list)"
   ]
  }
 ],
 "metadata": {
  "kernelspec": {
   "display_name": "stats",
   "language": "python",
   "name": "python3"
  },
  "language_info": {
   "codemirror_mode": {
    "name": "ipython",
    "version": 3
   },
   "file_extension": ".py",
   "mimetype": "text/x-python",
   "name": "python",
   "nbconvert_exporter": "python",
   "pygments_lexer": "ipython3",
   "version": "3.9.15"
  },
  "orig_nbformat": 4
 },
 "nbformat": 4,
 "nbformat_minor": 2
}
