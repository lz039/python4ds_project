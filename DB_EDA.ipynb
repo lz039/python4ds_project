{
 "cells": [
  {
   "cell_type": "code",
   "execution_count": 1,
   "metadata": {},
   "outputs": [],
   "source": [
    "import pandas as pd"
   ]
  },
  {
   "cell_type": "code",
   "execution_count": 2,
   "metadata": {},
   "outputs": [],
   "source": [
    "df = pd.read_csv('data.csv')"
   ]
  },
  {
   "cell_type": "code",
   "execution_count": 12,
   "metadata": {},
   "outputs": [
    {
     "data": {
      "text/plain": [
       "(500, 14)"
      ]
     },
     "execution_count": 12,
     "metadata": {},
     "output_type": "execute_result"
    }
   ],
   "source": [
    "df.shape"
   ]
  },
  {
   "cell_type": "code",
   "execution_count": 9,
   "metadata": {},
   "outputs": [
    {
     "data": {
      "text/plain": [
       "id                  0\n",
       "name                0\n",
       "street              0\n",
       "houseNumber        96\n",
       "postalCode          0\n",
       "city                0\n",
       "state               0\n",
       "country             0\n",
       "stationCategory     0\n",
       "owner               0\n",
       "countryCode         0\n",
       "latitude           26\n",
       "longitude          26\n",
       "timeZone            0\n",
       "dtype: int64"
      ]
     },
     "execution_count": 9,
     "metadata": {},
     "output_type": "execute_result"
    }
   ],
   "source": [
    "df.isna().sum()"
   ]
  },
  {
   "cell_type": "code",
   "execution_count": 15,
   "metadata": {},
   "outputs": [
    {
     "name": "stdout",
     "output_type": "stream",
     "text": [
      "       id                           name               street houseNumber  \\\n",
      "2    1001                 Burkhardtsdorf        Bahnhofstraße         NaN   \n",
      "15   1018                      Cainsdorf        Am Hammerwald         NaN   \n",
      "17    102                  Altenhasungen          Hardtstraße         NaN   \n",
      "18   1020              Calbe (Saale) Ost          Am Klärwerk         NaN   \n",
      "21   1023                        Caldern       Zum Wollenberg         NaN   \n",
      "..    ...                            ...                  ...         ...   \n",
      "455  1531                      Eisenärzt           Dorfstraße         NaN   \n",
      "462   154          Annaberg-Buchholz Süd  Schneeberger Straße         NaN   \n",
      "470   155  Annaberg-Buchholz unt Bahnhof        Bahnhofsplatz         NaN   \n",
      "478  1559                     Elpersheim   Deutschordenstraße         NaN   \n",
      "487  1570             Elsterwerda-Biehla       Am Nordbahnhof         NaN   \n",
      "\n",
      "     postalCode               city              state country stationCategory  \\\n",
      "2          9235     Burkhardtsdorf            Sachsen      DE      CATEGORY_6   \n",
      "15         8064            Zwickau            Sachsen      DE      CATEGORY_6   \n",
      "17        34466          Wolfhagen             Hessen      DE      CATEGORY_6   \n",
      "18        39240      Calbe (Saale)     Sachsen-Anhalt      DE      CATEGORY_5   \n",
      "21        35094            Lahntal             Hessen      DE      CATEGORY_6   \n",
      "..          ...                ...                ...     ...             ...   \n",
      "455       83313          Siegsdorf             Bayern      DE      CATEGORY_6   \n",
      "462        9456  Annaberg-Buchholz            Sachsen      DE      CATEGORY_6   \n",
      "470        9456  Annaberg-Buchholz            Sachsen      DE      CATEGORY_6   \n",
      "478       97990        Weikersheim  Baden-Württemberg      DE      CATEGORY_6   \n",
      "487        4910        Elsterwerda        Brandenburg      DE      CATEGORY_6   \n",
      "\n",
      "              owner countryCode   latitude  longitude       timeZone  \n",
      "2    DB Regio-Netze          DE        NaN        NaN  Europe/Berlin  \n",
      "15   DB Regio-Netze          DE        NaN        NaN  Europe/Berlin  \n",
      "17   DB Regio-Netze          DE        NaN        NaN  Europe/Berlin  \n",
      "18           DB S&S          DE  51.920693  11.810527  Europe/Berlin  \n",
      "21   DB Regio-Netze          DE        NaN        NaN  Europe/Berlin  \n",
      "..              ...         ...        ...        ...            ...  \n",
      "455  DB Regio-Netze          DE        NaN        NaN  Europe/Berlin  \n",
      "462  DB Regio-Netze          DE        NaN        NaN  Europe/Berlin  \n",
      "470  DB Regio-Netze          DE        NaN        NaN  Europe/Berlin  \n",
      "478  DB Regio-Netze          DE        NaN        NaN  Europe/Berlin  \n",
      "487          DB S&S          DE  51.472227  13.519271  Europe/Berlin  \n",
      "\n",
      "[102 rows x 14 columns]\n"
     ]
    }
   ],
   "source": [
    "missing_values = df[df.isna().any(axis=1)]\n",
    "print(missing_values)"
   ]
  },
  {
   "cell_type": "code",
   "execution_count": null,
   "metadata": {},
   "outputs": [],
   "source": []
  }
 ],
 "metadata": {
  "kernelspec": {
   "display_name": "stats",
   "language": "python",
   "name": "python3"
  },
  "language_info": {
   "codemirror_mode": {
    "name": "ipython",
    "version": 3
   },
   "file_extension": ".py",
   "mimetype": "text/x-python",
   "name": "python",
   "nbconvert_exporter": "python",
   "pygments_lexer": "ipython3",
   "version": "3.9.15"
  },
  "orig_nbformat": 4
 },
 "nbformat": 4,
 "nbformat_minor": 2
}
